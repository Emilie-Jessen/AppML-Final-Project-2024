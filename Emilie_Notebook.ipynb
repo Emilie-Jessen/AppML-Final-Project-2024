{
  "nbformat": 4,
  "nbformat_minor": 0,
  "metadata": {
    "colab": {
      "provenance": [],
      "authorship_tag": "ABX9TyM+aSgODcZ5VcOTJCwqFmjW",
      "include_colab_link": true
    },
    "kernelspec": {
      "name": "python3",
      "display_name": "Python 3"
    },
    "language_info": {
      "name": "python"
    }
  },
  "cells": [
    {
      "cell_type": "markdown",
      "metadata": {
        "id": "view-in-github",
        "colab_type": "text"
      },
      "source": [
        "<a href=\"https://colab.research.google.com/github/Emilie-Jessen/AppML-Final-Project-2024/blob/main/Emilie_Notebook.ipynb\" target=\"_parent\"><img src=\"https://colab.research.google.com/assets/colab-badge.svg\" alt=\"Open In Colab\"/></a>"
      ]
    },
    {
      "cell_type": "code",
      "execution_count": 1,
      "metadata": {
        "id": "s-Lbte9aWPxH"
      },
      "outputs": [],
      "source": [
        "import multiprocessing\n",
        "import numpy as np"
      ]
    },
    {
      "cell_type": "code",
      "source": [
        "print(\"New trial\")"
      ],
      "metadata": {
        "id": "IrSvT5eXYHwF",
        "colab": {
          "base_uri": "https://localhost:8080/"
        },
        "outputId": "54717717-be22-48a7-fcd8-96fc4564ac41"
      },
      "execution_count": 2,
      "outputs": [
        {
          "output_type": "stream",
          "name": "stdout",
          "text": [
            "New trial\n"
          ]
        }
      ]
    },
    {
      "cell_type": "code",
      "source": [],
      "metadata": {
        "id": "AIf_c_ZPYezo"
      },
      "execution_count": null,
      "outputs": []
    }
  ]
}