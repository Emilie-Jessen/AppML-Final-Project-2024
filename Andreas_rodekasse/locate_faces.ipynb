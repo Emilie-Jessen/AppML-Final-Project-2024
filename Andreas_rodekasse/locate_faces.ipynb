{
 "cells": [
  {
   "cell_type": "code",
   "execution_count": 3,
   "metadata": {},
   "outputs": [
    {
     "name": "stdout",
     "output_type": "stream",
     "text": [
      "WARNING:tensorflow:5 out of the last 25 calls to <function Model.make_predict_function.<locals>.predict_function at 0x0000027764B80700> triggered tf.function retracing. Tracing is expensive and the excessive number of tracings could be due to (1) creating @tf.function repeatedly in a loop, (2) passing tensors with different shapes, (3) passing Python objects instead of tensors. For (1), please define your @tf.function outside of the loop. For (2), @tf.function has experimental_relax_shapes=True option that relaxes argument shapes that can avoid unnecessary retracing. For (3), please refer to https://www.tensorflow.org/guide/function#controlling_retracing and https://www.tensorflow.org/api_docs/python/tf/function for  more details.\n"
     ]
    }
   ],
   "source": [
    "\n",
    "import cv2\n",
    "import os\n",
    "from mtcnn import MTCNN\n",
    "\n",
    "def detect_faces_opencv(image_path, **kwargs):\n",
    "    # Load the pre-trained face detection model\n",
    "    face_cascade = cv2.CascadeClassifier(cv2.data.haarcascades + 'haarcascade_frontalface_default.xml')\n",
    "\n",
    "    # Load the image\n",
    "    image = cv2.imread(image_path)\n",
    "\n",
    "    # Detect faces in the image\n",
    "    detector = MTCNN()\n",
    "    faces = detector.detect_faces(image)\n",
    "\n",
    "    # Create a directory to store the face images\n",
    "    if 'dir' in kwargs:\n",
    "        output_dir = kwargs['dir']\n",
    "    else:\n",
    "        output_dir = 'detected_faces'\n",
    "    os.makedirs(output_dir, exist_ok=True)\n",
    "\n",
    "    # Save each detected face as a separate image\n",
    "    for i, face in enumerate(faces):\n",
    "        x, y, w, h = face['box']\n",
    "        face_image = cv2.cvtColor(image[y:y+h, x:x+w], cv2.COLOR_BGR2GRAY)\n",
    "        output_path = os.path.join(output_dir, f'face_{i}.jpg')\n",
    "        cv2.imwrite(output_path, face_image)\n",
    "        cv2.rectangle(image, (x, y), (x+w, y+h), (0, 255, 0), 2)\n",
    "\n",
    "    # Display the image with bounding boxes\n",
    "    cv2.imshow('Face Detection', image)\n",
    "    cv2.waitKey(0)\n",
    "    cv2.destroyAllWindows()\n",
    "\n",
    "# Example usage\n",
    "image_path = 'angry_test_cut.jpg'\n",
    "detect_faces_opencv(image_path)"
   ]
  }
 ],
 "metadata": {
  "kernelspec": {
   "display_name": "appml_project",
   "language": "python",
   "name": "python3"
  },
  "language_info": {
   "codemirror_mode": {
    "name": "ipython",
    "version": 3
   },
   "file_extension": ".py",
   "mimetype": "text/x-python",
   "name": "python",
   "nbconvert_exporter": "python",
   "pygments_lexer": "ipython3",
   "version": "3.9.18"
  }
 },
 "nbformat": 4,
 "nbformat_minor": 2
}
